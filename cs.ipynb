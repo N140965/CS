{
 "cells": [
  {
   "cell_type": "markdown",
   "id": "7c927cdd-3066-460d-bace-9df775b6e981",
   "metadata": {},
   "source": [
    "<b> 1. Tokenize sentences </b>"
   ]
  },
  {
   "cell_type": "code",
   "execution_count": 96,
   "id": "ea1caea7-d9a7-4255-b218-5b4baf2cbdb7",
   "metadata": {
    "scrolled": true
   },
   "outputs": [
    {
     "name": "stdout",
     "output_type": "stream",
     "text": [
      "** Step 1: Tokenized Sentences **\n",
      "\n",
      " Sentence 1: Larsen & Toubro Chairman SN Subrahmanyan has stirred a storm with his recent proposal advocating for a 90-hour workweek, including Sundays, \n",
      "to maintain competitiveness.\n",
      "\n",
      " Sentence 2: The controversial suggestion comes against the backdrop of growing concerns about the dangers of overwork,\n",
      "highlighted by the tragic death of a 26-year-old EY employee, Anna Sebastian Perayil, last year.\n",
      "\n",
      " Sentence 3: She reportedly succumbed to the pressures of extensive working hours, just four months into her job.\n"
     ]
    }
   ],
   "source": [
    "import nltk\n",
    "from nltk.tokenize import sent_tokenize\n",
    "\n",
    "# Text to be Summarized\n",
    "text = \"\"\"Larsen & Toubro Chairman SN Subrahmanyan has stirred a storm with his recent proposal advocating for a 90-hour workweek, including Sundays, \n",
    "to maintain competitiveness. The controversial suggestion comes against the backdrop of growing concerns about the dangers of overwork,\n",
    "highlighted by the tragic death of a 26-year-old EY employee, Anna Sebastian Perayil, last year. \n",
    "She reportedly succumbed to the pressures of extensive working hours, just four months into her job.\n",
    "\"\"\"\n",
    "# Tokenize Given Sentences\n",
    "def tokenize_sentences(text):\n",
    "    return sent_tokenize(text)\n",
    "sentences = tokenize_sentences(text)\n",
    "print(\"** Step 1: Tokenized Sentences **\")\n",
    "for i, sentence in enumerate(sentences, 1):\n",
    "    print(f\"\\n Sentence {i}: {sentence}\")\n"
   ]
  },
  {
   "cell_type": "markdown",
   "id": "13b94d50-c114-4422-b54d-ac034046f223",
   "metadata": {},
   "source": [
    "<b> 2. Create Frequency Matrix of Words in Each Sentence. </b>"
   ]
  },
  {
   "cell_type": "code",
   "execution_count": 99,
   "id": "8a240c00-4747-49c7-91ec-96245384da4b",
   "metadata": {},
   "outputs": [
    {
     "name": "stdout",
     "output_type": "stream",
     "text": [
      "\n",
      " **Step 2: Frequency Matrix **\n",
      "\n",
      " Sentence: \"Larsen & Toubro Chairman SN Subrahmanyan has stirred a storm with his recent proposal advocating for a 90-hour workweek, including Sundays, \n",
      "to maintain competitiveness.\"\n",
      ">> Frequencies: {'larsen': 1, 'toubro': 1, 'chairman': 1, 'sn': 1, 'subrahmanyan': 1, 'stirred': 1, 'storm': 1, 'recent': 1, 'proposal': 1, 'advocating': 1, 'workweek': 1, 'including': 1, 'sundays': 1, 'maintain': 1, 'competitiveness': 1}\n",
      "\n",
      " Sentence: \"The controversial suggestion comes against the backdrop of growing concerns about the dangers of overwork,\n",
      "highlighted by the tragic death of a 26-year-old EY employee, Anna Sebastian Perayil, last year.\"\n",
      ">> Frequencies: {'controversial': 1, 'suggestion': 1, 'comes': 1, 'backdrop': 1, 'growing': 1, 'concerns': 1, 'dangers': 1, 'overwork': 1, 'highlighted': 1, 'tragic': 1, 'death': 1, 'ey': 1, 'employee': 1, 'anna': 1, 'sebastian': 1, 'perayil': 1, 'last': 1, 'year': 1}\n",
      "\n",
      " Sentence: \"She reportedly succumbed to the pressures of extensive working hours, just four months into her job.\"\n",
      ">> Frequencies: {'reportedly': 1, 'succumbed': 1, 'pressures': 1, 'extensive': 1, 'working': 1, 'hours': 1, 'four': 1, 'months': 1, 'job': 1}\n"
     ]
    }
   ],
   "source": [
    "from nltk.tokenize import word_tokenize\n",
    "from nltk.corpus import stopwords\n",
    "from collections import defaultdict\n",
    "\n",
    "stop_words = set(stopwords.words(\"english\"))\n",
    "\n",
    "# Create Frequency Matrix, frequency = (Number of times the term t appears in a document)/ (Total number of terms in the document)\n",
    "def create_frequency_matrix(sentences):\n",
    "    frequency_matrix = {}\n",
    "    for sentence in sentences:\n",
    "        words = word_tokenize(sentence.lower())\n",
    "        frequency_matrix[sentence] = {}\n",
    "        for word in words:\n",
    "            if word.isalnum() and word not in stop_words:\n",
    "                frequency_matrix[sentence][word] = frequency_matrix[sentence].get(word, 0) + 1\n",
    "    return frequency_matrix\n",
    "\n",
    "frequency_matrix = create_frequency_matrix(sentences)\n",
    "print(\"\\n **Step 2: Frequency Matrix **\")\n",
    "for sentence, freqs in frequency_matrix.items():\n",
    "    print(f\"\\n Sentence: \\\"{sentence}\\\"\")\n",
    "    print(f\">> Frequencies: {freqs}\")"
   ]
  },
  {
   "cell_type": "markdown",
   "id": "257117e7-1f30-4c63-aa41-5df23de88487",
   "metadata": {},
   "source": [
    "<b> 3. Calculate Term Frequency and Generate Matrix. </b>"
   ]
  },
  {
   "cell_type": "code",
   "execution_count": 102,
   "id": "e8089800-5014-430a-a1ae-a8efe6827047",
   "metadata": {},
   "outputs": [
    {
     "name": "stdout",
     "output_type": "stream",
     "text": [
      "\n",
      "** Step 3: Term Frequency (TF) Matrix **\n",
      "\n",
      " Sentence: \"Larsen & Toubro Chairman SN Subrahmanyan has stirred a storm with his recent proposal advocating for a 90-hour workweek, including Sundays, \n",
      "to maintain competitiveness.\"\n",
      ">> TF Scores: {'larsen': 0.06666666666666667, 'toubro': 0.06666666666666667, 'chairman': 0.06666666666666667, 'sn': 0.06666666666666667, 'subrahmanyan': 0.06666666666666667, 'stirred': 0.06666666666666667, 'storm': 0.06666666666666667, 'recent': 0.06666666666666667, 'proposal': 0.06666666666666667, 'advocating': 0.06666666666666667, 'workweek': 0.06666666666666667, 'including': 0.06666666666666667, 'sundays': 0.06666666666666667, 'maintain': 0.06666666666666667, 'competitiveness': 0.06666666666666667}\n",
      "\n",
      "\n",
      " Sentence: \"The controversial suggestion comes against the backdrop of growing concerns about the dangers of overwork,\n",
      "highlighted by the tragic death of a 26-year-old EY employee, Anna Sebastian Perayil, last year.\"\n",
      ">> TF Scores: {'controversial': 0.05555555555555555, 'suggestion': 0.05555555555555555, 'comes': 0.05555555555555555, 'backdrop': 0.05555555555555555, 'growing': 0.05555555555555555, 'concerns': 0.05555555555555555, 'dangers': 0.05555555555555555, 'overwork': 0.05555555555555555, 'highlighted': 0.05555555555555555, 'tragic': 0.05555555555555555, 'death': 0.05555555555555555, 'ey': 0.05555555555555555, 'employee': 0.05555555555555555, 'anna': 0.05555555555555555, 'sebastian': 0.05555555555555555, 'perayil': 0.05555555555555555, 'last': 0.05555555555555555, 'year': 0.05555555555555555}\n",
      "\n",
      "\n",
      " Sentence: \"She reportedly succumbed to the pressures of extensive working hours, just four months into her job.\"\n",
      ">> TF Scores: {'reportedly': 0.1111111111111111, 'succumbed': 0.1111111111111111, 'pressures': 0.1111111111111111, 'extensive': 0.1111111111111111, 'working': 0.1111111111111111, 'hours': 0.1111111111111111, 'four': 0.1111111111111111, 'months': 0.1111111111111111, 'job': 0.1111111111111111}\n",
      "\n"
     ]
    }
   ],
   "source": [
    "# Calculate Term Frequency Tf and generate the matrix\n",
    "def calculate_term_frequency(frequency_matrix):\n",
    "    tf_matrix = {}\n",
    "    for sentence, freqs in frequency_matrix.items():\n",
    "        tf_matrix[sentence] = {}\n",
    "        total_words = sum(freqs.values())\n",
    "        for word, count in freqs.items():\n",
    "            tf_matrix[sentence][word] = count / total_words\n",
    "    return tf_matrix\n",
    "\n",
    "tf_matrix = calculate_term_frequency(frequency_matrix)\n",
    "print(\"\\n** Step 3: Term Frequency (TF) Matrix **\")\n",
    "for sentence, tf_scores in tf_matrix.items():\n",
    "    print(f\"\\n Sentence: \\\"{sentence}\\\"\")\n",
    "    print(f\">> TF Scores: {tf_scores}\\n\")\n"
   ]
  },
  {
   "cell_type": "markdown",
   "id": "e079efd8-97c1-4989-b194-abdf807ed5fc",
   "metadata": {},
   "source": [
    "<b> 4. Create a table for documents per words. </b>"
   ]
  },
  {
   "cell_type": "code",
   "execution_count": 105,
   "id": "fa6d701e-6829-4f36-b048-04a52966e9aa",
   "metadata": {},
   "outputs": [
    {
     "name": "stdout",
     "output_type": "stream",
     "text": [
      "\n",
      "**Step 4: Document Per Word Table **\n",
      "\n",
      "larsen: 1\n",
      "toubro: 1\n",
      "chairman: 1\n",
      "sn: 1\n",
      "subrahmanyan: 1\n",
      "stirred: 1\n",
      "storm: 1\n",
      "recent: 1\n",
      "proposal: 1\n",
      "advocating: 1\n",
      "workweek: 1\n",
      "including: 1\n",
      "sundays: 1\n",
      "maintain: 1\n",
      "competitiveness: 1\n",
      "controversial: 1\n",
      "suggestion: 1\n",
      "comes: 1\n",
      "backdrop: 1\n",
      "growing: 1\n",
      "concerns: 1\n",
      "dangers: 1\n",
      "overwork: 1\n",
      "highlighted: 1\n",
      "tragic: 1\n",
      "death: 1\n",
      "ey: 1\n",
      "employee: 1\n",
      "anna: 1\n",
      "sebastian: 1\n",
      "perayil: 1\n",
      "last: 1\n",
      "year: 1\n",
      "reportedly: 1\n",
      "succumbed: 1\n",
      "pressures: 1\n",
      "extensive: 1\n",
      "working: 1\n",
      "hours: 1\n",
      "four: 1\n",
      "months: 1\n",
      "job: 1\n"
     ]
    }
   ],
   "source": [
    "# Creation of table for document per word - number of sentences contain a word\n",
    "def doc_word_table(frequency_matrix):\n",
    "    word_document_counts = defaultdict(int)\n",
    "    for sentence, freqs in frequency_matrix.items():\n",
    "        for word in freqs.keys():\n",
    "            word_document_counts[word] += 1\n",
    "    return word_document_counts\n",
    "\n",
    "word_document_counts = doc_word_table(frequency_matrix)\n",
    "print(\"\\n**Step 4: Document Per Word Table **\\n\")\n",
    "for word, doc_count in word_document_counts.items():\n",
    "    print(f\"{word}: {doc_count}\")"
   ]
  },
  {
   "cell_type": "markdown",
   "id": "dd1efc9d-8215-41af-adb1-ed4e8e64fe28",
   "metadata": {},
   "source": [
    "<b> 5. Calculate IDF and generate matrix. </b>"
   ]
  },
  {
   "cell_type": "code",
   "execution_count": 110,
   "id": "5fb039a6-80c5-4fc2-a963-3c582532b096",
   "metadata": {},
   "outputs": [
    {
     "name": "stdout",
     "output_type": "stream",
     "text": [
      "\n",
      "### Step 5: Inverse Document Frequency (IDF) Scores ###\n",
      "\n",
      "larsen: {'larsen': 0.17609125905568124, 'toubro': 0.17609125905568124, 'chairman': 0.17609125905568124, 'sn': 0.17609125905568124, 'subrahmanyan': 0.17609125905568124, 'stirred': 0.17609125905568124, 'storm': 0.17609125905568124, 'recent': 0.17609125905568124, 'proposal': 0.17609125905568124, 'advocating': 0.17609125905568124, 'workweek': 0.17609125905568124, 'including': 0.17609125905568124, 'sundays': 0.17609125905568124, 'maintain': 0.17609125905568124, 'competitiveness': 0.17609125905568124, 'controversial': 0.17609125905568124, 'suggestion': 0.17609125905568124, 'comes': 0.17609125905568124, 'backdrop': 0.17609125905568124, 'growing': 0.17609125905568124, 'concerns': 0.17609125905568124, 'dangers': 0.17609125905568124, 'overwork': 0.17609125905568124, 'highlighted': 0.17609125905568124, 'tragic': 0.17609125905568124, 'death': 0.17609125905568124, 'ey': 0.17609125905568124, 'employee': 0.17609125905568124, 'anna': 0.17609125905568124, 'sebastian': 0.17609125905568124, 'perayil': 0.17609125905568124, 'last': 0.17609125905568124, 'year': 0.17609125905568124, 'reportedly': 0.17609125905568124, 'succumbed': 0.17609125905568124, 'pressures': 0.17609125905568124, 'extensive': 0.17609125905568124, 'working': 0.17609125905568124, 'hours': 0.17609125905568124, 'four': 0.17609125905568124, 'months': 0.17609125905568124, 'job': 0.17609125905568124}\n",
      "toubro: {'larsen': 0.17609125905568124, 'toubro': 0.17609125905568124, 'chairman': 0.17609125905568124, 'sn': 0.17609125905568124, 'subrahmanyan': 0.17609125905568124, 'stirred': 0.17609125905568124, 'storm': 0.17609125905568124, 'recent': 0.17609125905568124, 'proposal': 0.17609125905568124, 'advocating': 0.17609125905568124, 'workweek': 0.17609125905568124, 'including': 0.17609125905568124, 'sundays': 0.17609125905568124, 'maintain': 0.17609125905568124, 'competitiveness': 0.17609125905568124, 'controversial': 0.17609125905568124, 'suggestion': 0.17609125905568124, 'comes': 0.17609125905568124, 'backdrop': 0.17609125905568124, 'growing': 0.17609125905568124, 'concerns': 0.17609125905568124, 'dangers': 0.17609125905568124, 'overwork': 0.17609125905568124, 'highlighted': 0.17609125905568124, 'tragic': 0.17609125905568124, 'death': 0.17609125905568124, 'ey': 0.17609125905568124, 'employee': 0.17609125905568124, 'anna': 0.17609125905568124, 'sebastian': 0.17609125905568124, 'perayil': 0.17609125905568124, 'last': 0.17609125905568124, 'year': 0.17609125905568124, 'reportedly': 0.17609125905568124, 'succumbed': 0.17609125905568124, 'pressures': 0.17609125905568124, 'extensive': 0.17609125905568124, 'working': 0.17609125905568124, 'hours': 0.17609125905568124, 'four': 0.17609125905568124, 'months': 0.17609125905568124, 'job': 0.17609125905568124}\n",
      "chairman: {'larsen': 0.17609125905568124, 'toubro': 0.17609125905568124, 'chairman': 0.17609125905568124, 'sn': 0.17609125905568124, 'subrahmanyan': 0.17609125905568124, 'stirred': 0.17609125905568124, 'storm': 0.17609125905568124, 'recent': 0.17609125905568124, 'proposal': 0.17609125905568124, 'advocating': 0.17609125905568124, 'workweek': 0.17609125905568124, 'including': 0.17609125905568124, 'sundays': 0.17609125905568124, 'maintain': 0.17609125905568124, 'competitiveness': 0.17609125905568124, 'controversial': 0.17609125905568124, 'suggestion': 0.17609125905568124, 'comes': 0.17609125905568124, 'backdrop': 0.17609125905568124, 'growing': 0.17609125905568124, 'concerns': 0.17609125905568124, 'dangers': 0.17609125905568124, 'overwork': 0.17609125905568124, 'highlighted': 0.17609125905568124, 'tragic': 0.17609125905568124, 'death': 0.17609125905568124, 'ey': 0.17609125905568124, 'employee': 0.17609125905568124, 'anna': 0.17609125905568124, 'sebastian': 0.17609125905568124, 'perayil': 0.17609125905568124, 'last': 0.17609125905568124, 'year': 0.17609125905568124, 'reportedly': 0.17609125905568124, 'succumbed': 0.17609125905568124, 'pressures': 0.17609125905568124, 'extensive': 0.17609125905568124, 'working': 0.17609125905568124, 'hours': 0.17609125905568124, 'four': 0.17609125905568124, 'months': 0.17609125905568124, 'job': 0.17609125905568124}\n",
      "sn: {'larsen': 0.17609125905568124, 'toubro': 0.17609125905568124, 'chairman': 0.17609125905568124, 'sn': 0.17609125905568124, 'subrahmanyan': 0.17609125905568124, 'stirred': 0.17609125905568124, 'storm': 0.17609125905568124, 'recent': 0.17609125905568124, 'proposal': 0.17609125905568124, 'advocating': 0.17609125905568124, 'workweek': 0.17609125905568124, 'including': 0.17609125905568124, 'sundays': 0.17609125905568124, 'maintain': 0.17609125905568124, 'competitiveness': 0.17609125905568124, 'controversial': 0.17609125905568124, 'suggestion': 0.17609125905568124, 'comes': 0.17609125905568124, 'backdrop': 0.17609125905568124, 'growing': 0.17609125905568124, 'concerns': 0.17609125905568124, 'dangers': 0.17609125905568124, 'overwork': 0.17609125905568124, 'highlighted': 0.17609125905568124, 'tragic': 0.17609125905568124, 'death': 0.17609125905568124, 'ey': 0.17609125905568124, 'employee': 0.17609125905568124, 'anna': 0.17609125905568124, 'sebastian': 0.17609125905568124, 'perayil': 0.17609125905568124, 'last': 0.17609125905568124, 'year': 0.17609125905568124, 'reportedly': 0.17609125905568124, 'succumbed': 0.17609125905568124, 'pressures': 0.17609125905568124, 'extensive': 0.17609125905568124, 'working': 0.17609125905568124, 'hours': 0.17609125905568124, 'four': 0.17609125905568124, 'months': 0.17609125905568124, 'job': 0.17609125905568124}\n",
      "subrahmanyan: {'larsen': 0.17609125905568124, 'toubro': 0.17609125905568124, 'chairman': 0.17609125905568124, 'sn': 0.17609125905568124, 'subrahmanyan': 0.17609125905568124, 'stirred': 0.17609125905568124, 'storm': 0.17609125905568124, 'recent': 0.17609125905568124, 'proposal': 0.17609125905568124, 'advocating': 0.17609125905568124, 'workweek': 0.17609125905568124, 'including': 0.17609125905568124, 'sundays': 0.17609125905568124, 'maintain': 0.17609125905568124, 'competitiveness': 0.17609125905568124, 'controversial': 0.17609125905568124, 'suggestion': 0.17609125905568124, 'comes': 0.17609125905568124, 'backdrop': 0.17609125905568124, 'growing': 0.17609125905568124, 'concerns': 0.17609125905568124, 'dangers': 0.17609125905568124, 'overwork': 0.17609125905568124, 'highlighted': 0.17609125905568124, 'tragic': 0.17609125905568124, 'death': 0.17609125905568124, 'ey': 0.17609125905568124, 'employee': 0.17609125905568124, 'anna': 0.17609125905568124, 'sebastian': 0.17609125905568124, 'perayil': 0.17609125905568124, 'last': 0.17609125905568124, 'year': 0.17609125905568124, 'reportedly': 0.17609125905568124, 'succumbed': 0.17609125905568124, 'pressures': 0.17609125905568124, 'extensive': 0.17609125905568124, 'working': 0.17609125905568124, 'hours': 0.17609125905568124, 'four': 0.17609125905568124, 'months': 0.17609125905568124, 'job': 0.17609125905568124}\n",
      "stirred: {'larsen': 0.17609125905568124, 'toubro': 0.17609125905568124, 'chairman': 0.17609125905568124, 'sn': 0.17609125905568124, 'subrahmanyan': 0.17609125905568124, 'stirred': 0.17609125905568124, 'storm': 0.17609125905568124, 'recent': 0.17609125905568124, 'proposal': 0.17609125905568124, 'advocating': 0.17609125905568124, 'workweek': 0.17609125905568124, 'including': 0.17609125905568124, 'sundays': 0.17609125905568124, 'maintain': 0.17609125905568124, 'competitiveness': 0.17609125905568124, 'controversial': 0.17609125905568124, 'suggestion': 0.17609125905568124, 'comes': 0.17609125905568124, 'backdrop': 0.17609125905568124, 'growing': 0.17609125905568124, 'concerns': 0.17609125905568124, 'dangers': 0.17609125905568124, 'overwork': 0.17609125905568124, 'highlighted': 0.17609125905568124, 'tragic': 0.17609125905568124, 'death': 0.17609125905568124, 'ey': 0.17609125905568124, 'employee': 0.17609125905568124, 'anna': 0.17609125905568124, 'sebastian': 0.17609125905568124, 'perayil': 0.17609125905568124, 'last': 0.17609125905568124, 'year': 0.17609125905568124, 'reportedly': 0.17609125905568124, 'succumbed': 0.17609125905568124, 'pressures': 0.17609125905568124, 'extensive': 0.17609125905568124, 'working': 0.17609125905568124, 'hours': 0.17609125905568124, 'four': 0.17609125905568124, 'months': 0.17609125905568124, 'job': 0.17609125905568124}\n",
      "storm: {'larsen': 0.17609125905568124, 'toubro': 0.17609125905568124, 'chairman': 0.17609125905568124, 'sn': 0.17609125905568124, 'subrahmanyan': 0.17609125905568124, 'stirred': 0.17609125905568124, 'storm': 0.17609125905568124, 'recent': 0.17609125905568124, 'proposal': 0.17609125905568124, 'advocating': 0.17609125905568124, 'workweek': 0.17609125905568124, 'including': 0.17609125905568124, 'sundays': 0.17609125905568124, 'maintain': 0.17609125905568124, 'competitiveness': 0.17609125905568124, 'controversial': 0.17609125905568124, 'suggestion': 0.17609125905568124, 'comes': 0.17609125905568124, 'backdrop': 0.17609125905568124, 'growing': 0.17609125905568124, 'concerns': 0.17609125905568124, 'dangers': 0.17609125905568124, 'overwork': 0.17609125905568124, 'highlighted': 0.17609125905568124, 'tragic': 0.17609125905568124, 'death': 0.17609125905568124, 'ey': 0.17609125905568124, 'employee': 0.17609125905568124, 'anna': 0.17609125905568124, 'sebastian': 0.17609125905568124, 'perayil': 0.17609125905568124, 'last': 0.17609125905568124, 'year': 0.17609125905568124, 'reportedly': 0.17609125905568124, 'succumbed': 0.17609125905568124, 'pressures': 0.17609125905568124, 'extensive': 0.17609125905568124, 'working': 0.17609125905568124, 'hours': 0.17609125905568124, 'four': 0.17609125905568124, 'months': 0.17609125905568124, 'job': 0.17609125905568124}\n",
      "recent: {'larsen': 0.17609125905568124, 'toubro': 0.17609125905568124, 'chairman': 0.17609125905568124, 'sn': 0.17609125905568124, 'subrahmanyan': 0.17609125905568124, 'stirred': 0.17609125905568124, 'storm': 0.17609125905568124, 'recent': 0.17609125905568124, 'proposal': 0.17609125905568124, 'advocating': 0.17609125905568124, 'workweek': 0.17609125905568124, 'including': 0.17609125905568124, 'sundays': 0.17609125905568124, 'maintain': 0.17609125905568124, 'competitiveness': 0.17609125905568124, 'controversial': 0.17609125905568124, 'suggestion': 0.17609125905568124, 'comes': 0.17609125905568124, 'backdrop': 0.17609125905568124, 'growing': 0.17609125905568124, 'concerns': 0.17609125905568124, 'dangers': 0.17609125905568124, 'overwork': 0.17609125905568124, 'highlighted': 0.17609125905568124, 'tragic': 0.17609125905568124, 'death': 0.17609125905568124, 'ey': 0.17609125905568124, 'employee': 0.17609125905568124, 'anna': 0.17609125905568124, 'sebastian': 0.17609125905568124, 'perayil': 0.17609125905568124, 'last': 0.17609125905568124, 'year': 0.17609125905568124, 'reportedly': 0.17609125905568124, 'succumbed': 0.17609125905568124, 'pressures': 0.17609125905568124, 'extensive': 0.17609125905568124, 'working': 0.17609125905568124, 'hours': 0.17609125905568124, 'four': 0.17609125905568124, 'months': 0.17609125905568124, 'job': 0.17609125905568124}\n",
      "proposal: {'larsen': 0.17609125905568124, 'toubro': 0.17609125905568124, 'chairman': 0.17609125905568124, 'sn': 0.17609125905568124, 'subrahmanyan': 0.17609125905568124, 'stirred': 0.17609125905568124, 'storm': 0.17609125905568124, 'recent': 0.17609125905568124, 'proposal': 0.17609125905568124, 'advocating': 0.17609125905568124, 'workweek': 0.17609125905568124, 'including': 0.17609125905568124, 'sundays': 0.17609125905568124, 'maintain': 0.17609125905568124, 'competitiveness': 0.17609125905568124, 'controversial': 0.17609125905568124, 'suggestion': 0.17609125905568124, 'comes': 0.17609125905568124, 'backdrop': 0.17609125905568124, 'growing': 0.17609125905568124, 'concerns': 0.17609125905568124, 'dangers': 0.17609125905568124, 'overwork': 0.17609125905568124, 'highlighted': 0.17609125905568124, 'tragic': 0.17609125905568124, 'death': 0.17609125905568124, 'ey': 0.17609125905568124, 'employee': 0.17609125905568124, 'anna': 0.17609125905568124, 'sebastian': 0.17609125905568124, 'perayil': 0.17609125905568124, 'last': 0.17609125905568124, 'year': 0.17609125905568124, 'reportedly': 0.17609125905568124, 'succumbed': 0.17609125905568124, 'pressures': 0.17609125905568124, 'extensive': 0.17609125905568124, 'working': 0.17609125905568124, 'hours': 0.17609125905568124, 'four': 0.17609125905568124, 'months': 0.17609125905568124, 'job': 0.17609125905568124}\n",
      "advocating: {'larsen': 0.17609125905568124, 'toubro': 0.17609125905568124, 'chairman': 0.17609125905568124, 'sn': 0.17609125905568124, 'subrahmanyan': 0.17609125905568124, 'stirred': 0.17609125905568124, 'storm': 0.17609125905568124, 'recent': 0.17609125905568124, 'proposal': 0.17609125905568124, 'advocating': 0.17609125905568124, 'workweek': 0.17609125905568124, 'including': 0.17609125905568124, 'sundays': 0.17609125905568124, 'maintain': 0.17609125905568124, 'competitiveness': 0.17609125905568124, 'controversial': 0.17609125905568124, 'suggestion': 0.17609125905568124, 'comes': 0.17609125905568124, 'backdrop': 0.17609125905568124, 'growing': 0.17609125905568124, 'concerns': 0.17609125905568124, 'dangers': 0.17609125905568124, 'overwork': 0.17609125905568124, 'highlighted': 0.17609125905568124, 'tragic': 0.17609125905568124, 'death': 0.17609125905568124, 'ey': 0.17609125905568124, 'employee': 0.17609125905568124, 'anna': 0.17609125905568124, 'sebastian': 0.17609125905568124, 'perayil': 0.17609125905568124, 'last': 0.17609125905568124, 'year': 0.17609125905568124, 'reportedly': 0.17609125905568124, 'succumbed': 0.17609125905568124, 'pressures': 0.17609125905568124, 'extensive': 0.17609125905568124, 'working': 0.17609125905568124, 'hours': 0.17609125905568124, 'four': 0.17609125905568124, 'months': 0.17609125905568124, 'job': 0.17609125905568124}\n",
      "workweek: {'larsen': 0.17609125905568124, 'toubro': 0.17609125905568124, 'chairman': 0.17609125905568124, 'sn': 0.17609125905568124, 'subrahmanyan': 0.17609125905568124, 'stirred': 0.17609125905568124, 'storm': 0.17609125905568124, 'recent': 0.17609125905568124, 'proposal': 0.17609125905568124, 'advocating': 0.17609125905568124, 'workweek': 0.17609125905568124, 'including': 0.17609125905568124, 'sundays': 0.17609125905568124, 'maintain': 0.17609125905568124, 'competitiveness': 0.17609125905568124, 'controversial': 0.17609125905568124, 'suggestion': 0.17609125905568124, 'comes': 0.17609125905568124, 'backdrop': 0.17609125905568124, 'growing': 0.17609125905568124, 'concerns': 0.17609125905568124, 'dangers': 0.17609125905568124, 'overwork': 0.17609125905568124, 'highlighted': 0.17609125905568124, 'tragic': 0.17609125905568124, 'death': 0.17609125905568124, 'ey': 0.17609125905568124, 'employee': 0.17609125905568124, 'anna': 0.17609125905568124, 'sebastian': 0.17609125905568124, 'perayil': 0.17609125905568124, 'last': 0.17609125905568124, 'year': 0.17609125905568124, 'reportedly': 0.17609125905568124, 'succumbed': 0.17609125905568124, 'pressures': 0.17609125905568124, 'extensive': 0.17609125905568124, 'working': 0.17609125905568124, 'hours': 0.17609125905568124, 'four': 0.17609125905568124, 'months': 0.17609125905568124, 'job': 0.17609125905568124}\n",
      "including: {'larsen': 0.17609125905568124, 'toubro': 0.17609125905568124, 'chairman': 0.17609125905568124, 'sn': 0.17609125905568124, 'subrahmanyan': 0.17609125905568124, 'stirred': 0.17609125905568124, 'storm': 0.17609125905568124, 'recent': 0.17609125905568124, 'proposal': 0.17609125905568124, 'advocating': 0.17609125905568124, 'workweek': 0.17609125905568124, 'including': 0.17609125905568124, 'sundays': 0.17609125905568124, 'maintain': 0.17609125905568124, 'competitiveness': 0.17609125905568124, 'controversial': 0.17609125905568124, 'suggestion': 0.17609125905568124, 'comes': 0.17609125905568124, 'backdrop': 0.17609125905568124, 'growing': 0.17609125905568124, 'concerns': 0.17609125905568124, 'dangers': 0.17609125905568124, 'overwork': 0.17609125905568124, 'highlighted': 0.17609125905568124, 'tragic': 0.17609125905568124, 'death': 0.17609125905568124, 'ey': 0.17609125905568124, 'employee': 0.17609125905568124, 'anna': 0.17609125905568124, 'sebastian': 0.17609125905568124, 'perayil': 0.17609125905568124, 'last': 0.17609125905568124, 'year': 0.17609125905568124, 'reportedly': 0.17609125905568124, 'succumbed': 0.17609125905568124, 'pressures': 0.17609125905568124, 'extensive': 0.17609125905568124, 'working': 0.17609125905568124, 'hours': 0.17609125905568124, 'four': 0.17609125905568124, 'months': 0.17609125905568124, 'job': 0.17609125905568124}\n",
      "sundays: {'larsen': 0.17609125905568124, 'toubro': 0.17609125905568124, 'chairman': 0.17609125905568124, 'sn': 0.17609125905568124, 'subrahmanyan': 0.17609125905568124, 'stirred': 0.17609125905568124, 'storm': 0.17609125905568124, 'recent': 0.17609125905568124, 'proposal': 0.17609125905568124, 'advocating': 0.17609125905568124, 'workweek': 0.17609125905568124, 'including': 0.17609125905568124, 'sundays': 0.17609125905568124, 'maintain': 0.17609125905568124, 'competitiveness': 0.17609125905568124, 'controversial': 0.17609125905568124, 'suggestion': 0.17609125905568124, 'comes': 0.17609125905568124, 'backdrop': 0.17609125905568124, 'growing': 0.17609125905568124, 'concerns': 0.17609125905568124, 'dangers': 0.17609125905568124, 'overwork': 0.17609125905568124, 'highlighted': 0.17609125905568124, 'tragic': 0.17609125905568124, 'death': 0.17609125905568124, 'ey': 0.17609125905568124, 'employee': 0.17609125905568124, 'anna': 0.17609125905568124, 'sebastian': 0.17609125905568124, 'perayil': 0.17609125905568124, 'last': 0.17609125905568124, 'year': 0.17609125905568124, 'reportedly': 0.17609125905568124, 'succumbed': 0.17609125905568124, 'pressures': 0.17609125905568124, 'extensive': 0.17609125905568124, 'working': 0.17609125905568124, 'hours': 0.17609125905568124, 'four': 0.17609125905568124, 'months': 0.17609125905568124, 'job': 0.17609125905568124}\n",
      "maintain: {'larsen': 0.17609125905568124, 'toubro': 0.17609125905568124, 'chairman': 0.17609125905568124, 'sn': 0.17609125905568124, 'subrahmanyan': 0.17609125905568124, 'stirred': 0.17609125905568124, 'storm': 0.17609125905568124, 'recent': 0.17609125905568124, 'proposal': 0.17609125905568124, 'advocating': 0.17609125905568124, 'workweek': 0.17609125905568124, 'including': 0.17609125905568124, 'sundays': 0.17609125905568124, 'maintain': 0.17609125905568124, 'competitiveness': 0.17609125905568124, 'controversial': 0.17609125905568124, 'suggestion': 0.17609125905568124, 'comes': 0.17609125905568124, 'backdrop': 0.17609125905568124, 'growing': 0.17609125905568124, 'concerns': 0.17609125905568124, 'dangers': 0.17609125905568124, 'overwork': 0.17609125905568124, 'highlighted': 0.17609125905568124, 'tragic': 0.17609125905568124, 'death': 0.17609125905568124, 'ey': 0.17609125905568124, 'employee': 0.17609125905568124, 'anna': 0.17609125905568124, 'sebastian': 0.17609125905568124, 'perayil': 0.17609125905568124, 'last': 0.17609125905568124, 'year': 0.17609125905568124, 'reportedly': 0.17609125905568124, 'succumbed': 0.17609125905568124, 'pressures': 0.17609125905568124, 'extensive': 0.17609125905568124, 'working': 0.17609125905568124, 'hours': 0.17609125905568124, 'four': 0.17609125905568124, 'months': 0.17609125905568124, 'job': 0.17609125905568124}\n",
      "competitiveness: {'larsen': 0.17609125905568124, 'toubro': 0.17609125905568124, 'chairman': 0.17609125905568124, 'sn': 0.17609125905568124, 'subrahmanyan': 0.17609125905568124, 'stirred': 0.17609125905568124, 'storm': 0.17609125905568124, 'recent': 0.17609125905568124, 'proposal': 0.17609125905568124, 'advocating': 0.17609125905568124, 'workweek': 0.17609125905568124, 'including': 0.17609125905568124, 'sundays': 0.17609125905568124, 'maintain': 0.17609125905568124, 'competitiveness': 0.17609125905568124, 'controversial': 0.17609125905568124, 'suggestion': 0.17609125905568124, 'comes': 0.17609125905568124, 'backdrop': 0.17609125905568124, 'growing': 0.17609125905568124, 'concerns': 0.17609125905568124, 'dangers': 0.17609125905568124, 'overwork': 0.17609125905568124, 'highlighted': 0.17609125905568124, 'tragic': 0.17609125905568124, 'death': 0.17609125905568124, 'ey': 0.17609125905568124, 'employee': 0.17609125905568124, 'anna': 0.17609125905568124, 'sebastian': 0.17609125905568124, 'perayil': 0.17609125905568124, 'last': 0.17609125905568124, 'year': 0.17609125905568124, 'reportedly': 0.17609125905568124, 'succumbed': 0.17609125905568124, 'pressures': 0.17609125905568124, 'extensive': 0.17609125905568124, 'working': 0.17609125905568124, 'hours': 0.17609125905568124, 'four': 0.17609125905568124, 'months': 0.17609125905568124, 'job': 0.17609125905568124}\n",
      "controversial: {'larsen': 0.17609125905568124, 'toubro': 0.17609125905568124, 'chairman': 0.17609125905568124, 'sn': 0.17609125905568124, 'subrahmanyan': 0.17609125905568124, 'stirred': 0.17609125905568124, 'storm': 0.17609125905568124, 'recent': 0.17609125905568124, 'proposal': 0.17609125905568124, 'advocating': 0.17609125905568124, 'workweek': 0.17609125905568124, 'including': 0.17609125905568124, 'sundays': 0.17609125905568124, 'maintain': 0.17609125905568124, 'competitiveness': 0.17609125905568124, 'controversial': 0.17609125905568124, 'suggestion': 0.17609125905568124, 'comes': 0.17609125905568124, 'backdrop': 0.17609125905568124, 'growing': 0.17609125905568124, 'concerns': 0.17609125905568124, 'dangers': 0.17609125905568124, 'overwork': 0.17609125905568124, 'highlighted': 0.17609125905568124, 'tragic': 0.17609125905568124, 'death': 0.17609125905568124, 'ey': 0.17609125905568124, 'employee': 0.17609125905568124, 'anna': 0.17609125905568124, 'sebastian': 0.17609125905568124, 'perayil': 0.17609125905568124, 'last': 0.17609125905568124, 'year': 0.17609125905568124, 'reportedly': 0.17609125905568124, 'succumbed': 0.17609125905568124, 'pressures': 0.17609125905568124, 'extensive': 0.17609125905568124, 'working': 0.17609125905568124, 'hours': 0.17609125905568124, 'four': 0.17609125905568124, 'months': 0.17609125905568124, 'job': 0.17609125905568124}\n",
      "suggestion: {'larsen': 0.17609125905568124, 'toubro': 0.17609125905568124, 'chairman': 0.17609125905568124, 'sn': 0.17609125905568124, 'subrahmanyan': 0.17609125905568124, 'stirred': 0.17609125905568124, 'storm': 0.17609125905568124, 'recent': 0.17609125905568124, 'proposal': 0.17609125905568124, 'advocating': 0.17609125905568124, 'workweek': 0.17609125905568124, 'including': 0.17609125905568124, 'sundays': 0.17609125905568124, 'maintain': 0.17609125905568124, 'competitiveness': 0.17609125905568124, 'controversial': 0.17609125905568124, 'suggestion': 0.17609125905568124, 'comes': 0.17609125905568124, 'backdrop': 0.17609125905568124, 'growing': 0.17609125905568124, 'concerns': 0.17609125905568124, 'dangers': 0.17609125905568124, 'overwork': 0.17609125905568124, 'highlighted': 0.17609125905568124, 'tragic': 0.17609125905568124, 'death': 0.17609125905568124, 'ey': 0.17609125905568124, 'employee': 0.17609125905568124, 'anna': 0.17609125905568124, 'sebastian': 0.17609125905568124, 'perayil': 0.17609125905568124, 'last': 0.17609125905568124, 'year': 0.17609125905568124, 'reportedly': 0.17609125905568124, 'succumbed': 0.17609125905568124, 'pressures': 0.17609125905568124, 'extensive': 0.17609125905568124, 'working': 0.17609125905568124, 'hours': 0.17609125905568124, 'four': 0.17609125905568124, 'months': 0.17609125905568124, 'job': 0.17609125905568124}\n",
      "comes: {'larsen': 0.17609125905568124, 'toubro': 0.17609125905568124, 'chairman': 0.17609125905568124, 'sn': 0.17609125905568124, 'subrahmanyan': 0.17609125905568124, 'stirred': 0.17609125905568124, 'storm': 0.17609125905568124, 'recent': 0.17609125905568124, 'proposal': 0.17609125905568124, 'advocating': 0.17609125905568124, 'workweek': 0.17609125905568124, 'including': 0.17609125905568124, 'sundays': 0.17609125905568124, 'maintain': 0.17609125905568124, 'competitiveness': 0.17609125905568124, 'controversial': 0.17609125905568124, 'suggestion': 0.17609125905568124, 'comes': 0.17609125905568124, 'backdrop': 0.17609125905568124, 'growing': 0.17609125905568124, 'concerns': 0.17609125905568124, 'dangers': 0.17609125905568124, 'overwork': 0.17609125905568124, 'highlighted': 0.17609125905568124, 'tragic': 0.17609125905568124, 'death': 0.17609125905568124, 'ey': 0.17609125905568124, 'employee': 0.17609125905568124, 'anna': 0.17609125905568124, 'sebastian': 0.17609125905568124, 'perayil': 0.17609125905568124, 'last': 0.17609125905568124, 'year': 0.17609125905568124, 'reportedly': 0.17609125905568124, 'succumbed': 0.17609125905568124, 'pressures': 0.17609125905568124, 'extensive': 0.17609125905568124, 'working': 0.17609125905568124, 'hours': 0.17609125905568124, 'four': 0.17609125905568124, 'months': 0.17609125905568124, 'job': 0.17609125905568124}\n",
      "backdrop: {'larsen': 0.17609125905568124, 'toubro': 0.17609125905568124, 'chairman': 0.17609125905568124, 'sn': 0.17609125905568124, 'subrahmanyan': 0.17609125905568124, 'stirred': 0.17609125905568124, 'storm': 0.17609125905568124, 'recent': 0.17609125905568124, 'proposal': 0.17609125905568124, 'advocating': 0.17609125905568124, 'workweek': 0.17609125905568124, 'including': 0.17609125905568124, 'sundays': 0.17609125905568124, 'maintain': 0.17609125905568124, 'competitiveness': 0.17609125905568124, 'controversial': 0.17609125905568124, 'suggestion': 0.17609125905568124, 'comes': 0.17609125905568124, 'backdrop': 0.17609125905568124, 'growing': 0.17609125905568124, 'concerns': 0.17609125905568124, 'dangers': 0.17609125905568124, 'overwork': 0.17609125905568124, 'highlighted': 0.17609125905568124, 'tragic': 0.17609125905568124, 'death': 0.17609125905568124, 'ey': 0.17609125905568124, 'employee': 0.17609125905568124, 'anna': 0.17609125905568124, 'sebastian': 0.17609125905568124, 'perayil': 0.17609125905568124, 'last': 0.17609125905568124, 'year': 0.17609125905568124, 'reportedly': 0.17609125905568124, 'succumbed': 0.17609125905568124, 'pressures': 0.17609125905568124, 'extensive': 0.17609125905568124, 'working': 0.17609125905568124, 'hours': 0.17609125905568124, 'four': 0.17609125905568124, 'months': 0.17609125905568124, 'job': 0.17609125905568124}\n",
      "growing: {'larsen': 0.17609125905568124, 'toubro': 0.17609125905568124, 'chairman': 0.17609125905568124, 'sn': 0.17609125905568124, 'subrahmanyan': 0.17609125905568124, 'stirred': 0.17609125905568124, 'storm': 0.17609125905568124, 'recent': 0.17609125905568124, 'proposal': 0.17609125905568124, 'advocating': 0.17609125905568124, 'workweek': 0.17609125905568124, 'including': 0.17609125905568124, 'sundays': 0.17609125905568124, 'maintain': 0.17609125905568124, 'competitiveness': 0.17609125905568124, 'controversial': 0.17609125905568124, 'suggestion': 0.17609125905568124, 'comes': 0.17609125905568124, 'backdrop': 0.17609125905568124, 'growing': 0.17609125905568124, 'concerns': 0.17609125905568124, 'dangers': 0.17609125905568124, 'overwork': 0.17609125905568124, 'highlighted': 0.17609125905568124, 'tragic': 0.17609125905568124, 'death': 0.17609125905568124, 'ey': 0.17609125905568124, 'employee': 0.17609125905568124, 'anna': 0.17609125905568124, 'sebastian': 0.17609125905568124, 'perayil': 0.17609125905568124, 'last': 0.17609125905568124, 'year': 0.17609125905568124, 'reportedly': 0.17609125905568124, 'succumbed': 0.17609125905568124, 'pressures': 0.17609125905568124, 'extensive': 0.17609125905568124, 'working': 0.17609125905568124, 'hours': 0.17609125905568124, 'four': 0.17609125905568124, 'months': 0.17609125905568124, 'job': 0.17609125905568124}\n",
      "concerns: {'larsen': 0.17609125905568124, 'toubro': 0.17609125905568124, 'chairman': 0.17609125905568124, 'sn': 0.17609125905568124, 'subrahmanyan': 0.17609125905568124, 'stirred': 0.17609125905568124, 'storm': 0.17609125905568124, 'recent': 0.17609125905568124, 'proposal': 0.17609125905568124, 'advocating': 0.17609125905568124, 'workweek': 0.17609125905568124, 'including': 0.17609125905568124, 'sundays': 0.17609125905568124, 'maintain': 0.17609125905568124, 'competitiveness': 0.17609125905568124, 'controversial': 0.17609125905568124, 'suggestion': 0.17609125905568124, 'comes': 0.17609125905568124, 'backdrop': 0.17609125905568124, 'growing': 0.17609125905568124, 'concerns': 0.17609125905568124, 'dangers': 0.17609125905568124, 'overwork': 0.17609125905568124, 'highlighted': 0.17609125905568124, 'tragic': 0.17609125905568124, 'death': 0.17609125905568124, 'ey': 0.17609125905568124, 'employee': 0.17609125905568124, 'anna': 0.17609125905568124, 'sebastian': 0.17609125905568124, 'perayil': 0.17609125905568124, 'last': 0.17609125905568124, 'year': 0.17609125905568124, 'reportedly': 0.17609125905568124, 'succumbed': 0.17609125905568124, 'pressures': 0.17609125905568124, 'extensive': 0.17609125905568124, 'working': 0.17609125905568124, 'hours': 0.17609125905568124, 'four': 0.17609125905568124, 'months': 0.17609125905568124, 'job': 0.17609125905568124}\n",
      "dangers: {'larsen': 0.17609125905568124, 'toubro': 0.17609125905568124, 'chairman': 0.17609125905568124, 'sn': 0.17609125905568124, 'subrahmanyan': 0.17609125905568124, 'stirred': 0.17609125905568124, 'storm': 0.17609125905568124, 'recent': 0.17609125905568124, 'proposal': 0.17609125905568124, 'advocating': 0.17609125905568124, 'workweek': 0.17609125905568124, 'including': 0.17609125905568124, 'sundays': 0.17609125905568124, 'maintain': 0.17609125905568124, 'competitiveness': 0.17609125905568124, 'controversial': 0.17609125905568124, 'suggestion': 0.17609125905568124, 'comes': 0.17609125905568124, 'backdrop': 0.17609125905568124, 'growing': 0.17609125905568124, 'concerns': 0.17609125905568124, 'dangers': 0.17609125905568124, 'overwork': 0.17609125905568124, 'highlighted': 0.17609125905568124, 'tragic': 0.17609125905568124, 'death': 0.17609125905568124, 'ey': 0.17609125905568124, 'employee': 0.17609125905568124, 'anna': 0.17609125905568124, 'sebastian': 0.17609125905568124, 'perayil': 0.17609125905568124, 'last': 0.17609125905568124, 'year': 0.17609125905568124, 'reportedly': 0.17609125905568124, 'succumbed': 0.17609125905568124, 'pressures': 0.17609125905568124, 'extensive': 0.17609125905568124, 'working': 0.17609125905568124, 'hours': 0.17609125905568124, 'four': 0.17609125905568124, 'months': 0.17609125905568124, 'job': 0.17609125905568124}\n",
      "overwork: {'larsen': 0.17609125905568124, 'toubro': 0.17609125905568124, 'chairman': 0.17609125905568124, 'sn': 0.17609125905568124, 'subrahmanyan': 0.17609125905568124, 'stirred': 0.17609125905568124, 'storm': 0.17609125905568124, 'recent': 0.17609125905568124, 'proposal': 0.17609125905568124, 'advocating': 0.17609125905568124, 'workweek': 0.17609125905568124, 'including': 0.17609125905568124, 'sundays': 0.17609125905568124, 'maintain': 0.17609125905568124, 'competitiveness': 0.17609125905568124, 'controversial': 0.17609125905568124, 'suggestion': 0.17609125905568124, 'comes': 0.17609125905568124, 'backdrop': 0.17609125905568124, 'growing': 0.17609125905568124, 'concerns': 0.17609125905568124, 'dangers': 0.17609125905568124, 'overwork': 0.17609125905568124, 'highlighted': 0.17609125905568124, 'tragic': 0.17609125905568124, 'death': 0.17609125905568124, 'ey': 0.17609125905568124, 'employee': 0.17609125905568124, 'anna': 0.17609125905568124, 'sebastian': 0.17609125905568124, 'perayil': 0.17609125905568124, 'last': 0.17609125905568124, 'year': 0.17609125905568124, 'reportedly': 0.17609125905568124, 'succumbed': 0.17609125905568124, 'pressures': 0.17609125905568124, 'extensive': 0.17609125905568124, 'working': 0.17609125905568124, 'hours': 0.17609125905568124, 'four': 0.17609125905568124, 'months': 0.17609125905568124, 'job': 0.17609125905568124}\n",
      "highlighted: {'larsen': 0.17609125905568124, 'toubro': 0.17609125905568124, 'chairman': 0.17609125905568124, 'sn': 0.17609125905568124, 'subrahmanyan': 0.17609125905568124, 'stirred': 0.17609125905568124, 'storm': 0.17609125905568124, 'recent': 0.17609125905568124, 'proposal': 0.17609125905568124, 'advocating': 0.17609125905568124, 'workweek': 0.17609125905568124, 'including': 0.17609125905568124, 'sundays': 0.17609125905568124, 'maintain': 0.17609125905568124, 'competitiveness': 0.17609125905568124, 'controversial': 0.17609125905568124, 'suggestion': 0.17609125905568124, 'comes': 0.17609125905568124, 'backdrop': 0.17609125905568124, 'growing': 0.17609125905568124, 'concerns': 0.17609125905568124, 'dangers': 0.17609125905568124, 'overwork': 0.17609125905568124, 'highlighted': 0.17609125905568124, 'tragic': 0.17609125905568124, 'death': 0.17609125905568124, 'ey': 0.17609125905568124, 'employee': 0.17609125905568124, 'anna': 0.17609125905568124, 'sebastian': 0.17609125905568124, 'perayil': 0.17609125905568124, 'last': 0.17609125905568124, 'year': 0.17609125905568124, 'reportedly': 0.17609125905568124, 'succumbed': 0.17609125905568124, 'pressures': 0.17609125905568124, 'extensive': 0.17609125905568124, 'working': 0.17609125905568124, 'hours': 0.17609125905568124, 'four': 0.17609125905568124, 'months': 0.17609125905568124, 'job': 0.17609125905568124}\n",
      "tragic: {'larsen': 0.17609125905568124, 'toubro': 0.17609125905568124, 'chairman': 0.17609125905568124, 'sn': 0.17609125905568124, 'subrahmanyan': 0.17609125905568124, 'stirred': 0.17609125905568124, 'storm': 0.17609125905568124, 'recent': 0.17609125905568124, 'proposal': 0.17609125905568124, 'advocating': 0.17609125905568124, 'workweek': 0.17609125905568124, 'including': 0.17609125905568124, 'sundays': 0.17609125905568124, 'maintain': 0.17609125905568124, 'competitiveness': 0.17609125905568124, 'controversial': 0.17609125905568124, 'suggestion': 0.17609125905568124, 'comes': 0.17609125905568124, 'backdrop': 0.17609125905568124, 'growing': 0.17609125905568124, 'concerns': 0.17609125905568124, 'dangers': 0.17609125905568124, 'overwork': 0.17609125905568124, 'highlighted': 0.17609125905568124, 'tragic': 0.17609125905568124, 'death': 0.17609125905568124, 'ey': 0.17609125905568124, 'employee': 0.17609125905568124, 'anna': 0.17609125905568124, 'sebastian': 0.17609125905568124, 'perayil': 0.17609125905568124, 'last': 0.17609125905568124, 'year': 0.17609125905568124, 'reportedly': 0.17609125905568124, 'succumbed': 0.17609125905568124, 'pressures': 0.17609125905568124, 'extensive': 0.17609125905568124, 'working': 0.17609125905568124, 'hours': 0.17609125905568124, 'four': 0.17609125905568124, 'months': 0.17609125905568124, 'job': 0.17609125905568124}\n",
      "death: {'larsen': 0.17609125905568124, 'toubro': 0.17609125905568124, 'chairman': 0.17609125905568124, 'sn': 0.17609125905568124, 'subrahmanyan': 0.17609125905568124, 'stirred': 0.17609125905568124, 'storm': 0.17609125905568124, 'recent': 0.17609125905568124, 'proposal': 0.17609125905568124, 'advocating': 0.17609125905568124, 'workweek': 0.17609125905568124, 'including': 0.17609125905568124, 'sundays': 0.17609125905568124, 'maintain': 0.17609125905568124, 'competitiveness': 0.17609125905568124, 'controversial': 0.17609125905568124, 'suggestion': 0.17609125905568124, 'comes': 0.17609125905568124, 'backdrop': 0.17609125905568124, 'growing': 0.17609125905568124, 'concerns': 0.17609125905568124, 'dangers': 0.17609125905568124, 'overwork': 0.17609125905568124, 'highlighted': 0.17609125905568124, 'tragic': 0.17609125905568124, 'death': 0.17609125905568124, 'ey': 0.17609125905568124, 'employee': 0.17609125905568124, 'anna': 0.17609125905568124, 'sebastian': 0.17609125905568124, 'perayil': 0.17609125905568124, 'last': 0.17609125905568124, 'year': 0.17609125905568124, 'reportedly': 0.17609125905568124, 'succumbed': 0.17609125905568124, 'pressures': 0.17609125905568124, 'extensive': 0.17609125905568124, 'working': 0.17609125905568124, 'hours': 0.17609125905568124, 'four': 0.17609125905568124, 'months': 0.17609125905568124, 'job': 0.17609125905568124}\n",
      "ey: {'larsen': 0.17609125905568124, 'toubro': 0.17609125905568124, 'chairman': 0.17609125905568124, 'sn': 0.17609125905568124, 'subrahmanyan': 0.17609125905568124, 'stirred': 0.17609125905568124, 'storm': 0.17609125905568124, 'recent': 0.17609125905568124, 'proposal': 0.17609125905568124, 'advocating': 0.17609125905568124, 'workweek': 0.17609125905568124, 'including': 0.17609125905568124, 'sundays': 0.17609125905568124, 'maintain': 0.17609125905568124, 'competitiveness': 0.17609125905568124, 'controversial': 0.17609125905568124, 'suggestion': 0.17609125905568124, 'comes': 0.17609125905568124, 'backdrop': 0.17609125905568124, 'growing': 0.17609125905568124, 'concerns': 0.17609125905568124, 'dangers': 0.17609125905568124, 'overwork': 0.17609125905568124, 'highlighted': 0.17609125905568124, 'tragic': 0.17609125905568124, 'death': 0.17609125905568124, 'ey': 0.17609125905568124, 'employee': 0.17609125905568124, 'anna': 0.17609125905568124, 'sebastian': 0.17609125905568124, 'perayil': 0.17609125905568124, 'last': 0.17609125905568124, 'year': 0.17609125905568124, 'reportedly': 0.17609125905568124, 'succumbed': 0.17609125905568124, 'pressures': 0.17609125905568124, 'extensive': 0.17609125905568124, 'working': 0.17609125905568124, 'hours': 0.17609125905568124, 'four': 0.17609125905568124, 'months': 0.17609125905568124, 'job': 0.17609125905568124}\n",
      "employee: {'larsen': 0.17609125905568124, 'toubro': 0.17609125905568124, 'chairman': 0.17609125905568124, 'sn': 0.17609125905568124, 'subrahmanyan': 0.17609125905568124, 'stirred': 0.17609125905568124, 'storm': 0.17609125905568124, 'recent': 0.17609125905568124, 'proposal': 0.17609125905568124, 'advocating': 0.17609125905568124, 'workweek': 0.17609125905568124, 'including': 0.17609125905568124, 'sundays': 0.17609125905568124, 'maintain': 0.17609125905568124, 'competitiveness': 0.17609125905568124, 'controversial': 0.17609125905568124, 'suggestion': 0.17609125905568124, 'comes': 0.17609125905568124, 'backdrop': 0.17609125905568124, 'growing': 0.17609125905568124, 'concerns': 0.17609125905568124, 'dangers': 0.17609125905568124, 'overwork': 0.17609125905568124, 'highlighted': 0.17609125905568124, 'tragic': 0.17609125905568124, 'death': 0.17609125905568124, 'ey': 0.17609125905568124, 'employee': 0.17609125905568124, 'anna': 0.17609125905568124, 'sebastian': 0.17609125905568124, 'perayil': 0.17609125905568124, 'last': 0.17609125905568124, 'year': 0.17609125905568124, 'reportedly': 0.17609125905568124, 'succumbed': 0.17609125905568124, 'pressures': 0.17609125905568124, 'extensive': 0.17609125905568124, 'working': 0.17609125905568124, 'hours': 0.17609125905568124, 'four': 0.17609125905568124, 'months': 0.17609125905568124, 'job': 0.17609125905568124}\n",
      "anna: {'larsen': 0.17609125905568124, 'toubro': 0.17609125905568124, 'chairman': 0.17609125905568124, 'sn': 0.17609125905568124, 'subrahmanyan': 0.17609125905568124, 'stirred': 0.17609125905568124, 'storm': 0.17609125905568124, 'recent': 0.17609125905568124, 'proposal': 0.17609125905568124, 'advocating': 0.17609125905568124, 'workweek': 0.17609125905568124, 'including': 0.17609125905568124, 'sundays': 0.17609125905568124, 'maintain': 0.17609125905568124, 'competitiveness': 0.17609125905568124, 'controversial': 0.17609125905568124, 'suggestion': 0.17609125905568124, 'comes': 0.17609125905568124, 'backdrop': 0.17609125905568124, 'growing': 0.17609125905568124, 'concerns': 0.17609125905568124, 'dangers': 0.17609125905568124, 'overwork': 0.17609125905568124, 'highlighted': 0.17609125905568124, 'tragic': 0.17609125905568124, 'death': 0.17609125905568124, 'ey': 0.17609125905568124, 'employee': 0.17609125905568124, 'anna': 0.17609125905568124, 'sebastian': 0.17609125905568124, 'perayil': 0.17609125905568124, 'last': 0.17609125905568124, 'year': 0.17609125905568124, 'reportedly': 0.17609125905568124, 'succumbed': 0.17609125905568124, 'pressures': 0.17609125905568124, 'extensive': 0.17609125905568124, 'working': 0.17609125905568124, 'hours': 0.17609125905568124, 'four': 0.17609125905568124, 'months': 0.17609125905568124, 'job': 0.17609125905568124}\n",
      "sebastian: {'larsen': 0.17609125905568124, 'toubro': 0.17609125905568124, 'chairman': 0.17609125905568124, 'sn': 0.17609125905568124, 'subrahmanyan': 0.17609125905568124, 'stirred': 0.17609125905568124, 'storm': 0.17609125905568124, 'recent': 0.17609125905568124, 'proposal': 0.17609125905568124, 'advocating': 0.17609125905568124, 'workweek': 0.17609125905568124, 'including': 0.17609125905568124, 'sundays': 0.17609125905568124, 'maintain': 0.17609125905568124, 'competitiveness': 0.17609125905568124, 'controversial': 0.17609125905568124, 'suggestion': 0.17609125905568124, 'comes': 0.17609125905568124, 'backdrop': 0.17609125905568124, 'growing': 0.17609125905568124, 'concerns': 0.17609125905568124, 'dangers': 0.17609125905568124, 'overwork': 0.17609125905568124, 'highlighted': 0.17609125905568124, 'tragic': 0.17609125905568124, 'death': 0.17609125905568124, 'ey': 0.17609125905568124, 'employee': 0.17609125905568124, 'anna': 0.17609125905568124, 'sebastian': 0.17609125905568124, 'perayil': 0.17609125905568124, 'last': 0.17609125905568124, 'year': 0.17609125905568124, 'reportedly': 0.17609125905568124, 'succumbed': 0.17609125905568124, 'pressures': 0.17609125905568124, 'extensive': 0.17609125905568124, 'working': 0.17609125905568124, 'hours': 0.17609125905568124, 'four': 0.17609125905568124, 'months': 0.17609125905568124, 'job': 0.17609125905568124}\n",
      "perayil: {'larsen': 0.17609125905568124, 'toubro': 0.17609125905568124, 'chairman': 0.17609125905568124, 'sn': 0.17609125905568124, 'subrahmanyan': 0.17609125905568124, 'stirred': 0.17609125905568124, 'storm': 0.17609125905568124, 'recent': 0.17609125905568124, 'proposal': 0.17609125905568124, 'advocating': 0.17609125905568124, 'workweek': 0.17609125905568124, 'including': 0.17609125905568124, 'sundays': 0.17609125905568124, 'maintain': 0.17609125905568124, 'competitiveness': 0.17609125905568124, 'controversial': 0.17609125905568124, 'suggestion': 0.17609125905568124, 'comes': 0.17609125905568124, 'backdrop': 0.17609125905568124, 'growing': 0.17609125905568124, 'concerns': 0.17609125905568124, 'dangers': 0.17609125905568124, 'overwork': 0.17609125905568124, 'highlighted': 0.17609125905568124, 'tragic': 0.17609125905568124, 'death': 0.17609125905568124, 'ey': 0.17609125905568124, 'employee': 0.17609125905568124, 'anna': 0.17609125905568124, 'sebastian': 0.17609125905568124, 'perayil': 0.17609125905568124, 'last': 0.17609125905568124, 'year': 0.17609125905568124, 'reportedly': 0.17609125905568124, 'succumbed': 0.17609125905568124, 'pressures': 0.17609125905568124, 'extensive': 0.17609125905568124, 'working': 0.17609125905568124, 'hours': 0.17609125905568124, 'four': 0.17609125905568124, 'months': 0.17609125905568124, 'job': 0.17609125905568124}\n",
      "last: {'larsen': 0.17609125905568124, 'toubro': 0.17609125905568124, 'chairman': 0.17609125905568124, 'sn': 0.17609125905568124, 'subrahmanyan': 0.17609125905568124, 'stirred': 0.17609125905568124, 'storm': 0.17609125905568124, 'recent': 0.17609125905568124, 'proposal': 0.17609125905568124, 'advocating': 0.17609125905568124, 'workweek': 0.17609125905568124, 'including': 0.17609125905568124, 'sundays': 0.17609125905568124, 'maintain': 0.17609125905568124, 'competitiveness': 0.17609125905568124, 'controversial': 0.17609125905568124, 'suggestion': 0.17609125905568124, 'comes': 0.17609125905568124, 'backdrop': 0.17609125905568124, 'growing': 0.17609125905568124, 'concerns': 0.17609125905568124, 'dangers': 0.17609125905568124, 'overwork': 0.17609125905568124, 'highlighted': 0.17609125905568124, 'tragic': 0.17609125905568124, 'death': 0.17609125905568124, 'ey': 0.17609125905568124, 'employee': 0.17609125905568124, 'anna': 0.17609125905568124, 'sebastian': 0.17609125905568124, 'perayil': 0.17609125905568124, 'last': 0.17609125905568124, 'year': 0.17609125905568124, 'reportedly': 0.17609125905568124, 'succumbed': 0.17609125905568124, 'pressures': 0.17609125905568124, 'extensive': 0.17609125905568124, 'working': 0.17609125905568124, 'hours': 0.17609125905568124, 'four': 0.17609125905568124, 'months': 0.17609125905568124, 'job': 0.17609125905568124}\n",
      "year: {'larsen': 0.17609125905568124, 'toubro': 0.17609125905568124, 'chairman': 0.17609125905568124, 'sn': 0.17609125905568124, 'subrahmanyan': 0.17609125905568124, 'stirred': 0.17609125905568124, 'storm': 0.17609125905568124, 'recent': 0.17609125905568124, 'proposal': 0.17609125905568124, 'advocating': 0.17609125905568124, 'workweek': 0.17609125905568124, 'including': 0.17609125905568124, 'sundays': 0.17609125905568124, 'maintain': 0.17609125905568124, 'competitiveness': 0.17609125905568124, 'controversial': 0.17609125905568124, 'suggestion': 0.17609125905568124, 'comes': 0.17609125905568124, 'backdrop': 0.17609125905568124, 'growing': 0.17609125905568124, 'concerns': 0.17609125905568124, 'dangers': 0.17609125905568124, 'overwork': 0.17609125905568124, 'highlighted': 0.17609125905568124, 'tragic': 0.17609125905568124, 'death': 0.17609125905568124, 'ey': 0.17609125905568124, 'employee': 0.17609125905568124, 'anna': 0.17609125905568124, 'sebastian': 0.17609125905568124, 'perayil': 0.17609125905568124, 'last': 0.17609125905568124, 'year': 0.17609125905568124, 'reportedly': 0.17609125905568124, 'succumbed': 0.17609125905568124, 'pressures': 0.17609125905568124, 'extensive': 0.17609125905568124, 'working': 0.17609125905568124, 'hours': 0.17609125905568124, 'four': 0.17609125905568124, 'months': 0.17609125905568124, 'job': 0.17609125905568124}\n",
      "reportedly: {'larsen': 0.17609125905568124, 'toubro': 0.17609125905568124, 'chairman': 0.17609125905568124, 'sn': 0.17609125905568124, 'subrahmanyan': 0.17609125905568124, 'stirred': 0.17609125905568124, 'storm': 0.17609125905568124, 'recent': 0.17609125905568124, 'proposal': 0.17609125905568124, 'advocating': 0.17609125905568124, 'workweek': 0.17609125905568124, 'including': 0.17609125905568124, 'sundays': 0.17609125905568124, 'maintain': 0.17609125905568124, 'competitiveness': 0.17609125905568124, 'controversial': 0.17609125905568124, 'suggestion': 0.17609125905568124, 'comes': 0.17609125905568124, 'backdrop': 0.17609125905568124, 'growing': 0.17609125905568124, 'concerns': 0.17609125905568124, 'dangers': 0.17609125905568124, 'overwork': 0.17609125905568124, 'highlighted': 0.17609125905568124, 'tragic': 0.17609125905568124, 'death': 0.17609125905568124, 'ey': 0.17609125905568124, 'employee': 0.17609125905568124, 'anna': 0.17609125905568124, 'sebastian': 0.17609125905568124, 'perayil': 0.17609125905568124, 'last': 0.17609125905568124, 'year': 0.17609125905568124, 'reportedly': 0.17609125905568124, 'succumbed': 0.17609125905568124, 'pressures': 0.17609125905568124, 'extensive': 0.17609125905568124, 'working': 0.17609125905568124, 'hours': 0.17609125905568124, 'four': 0.17609125905568124, 'months': 0.17609125905568124, 'job': 0.17609125905568124}\n",
      "succumbed: {'larsen': 0.17609125905568124, 'toubro': 0.17609125905568124, 'chairman': 0.17609125905568124, 'sn': 0.17609125905568124, 'subrahmanyan': 0.17609125905568124, 'stirred': 0.17609125905568124, 'storm': 0.17609125905568124, 'recent': 0.17609125905568124, 'proposal': 0.17609125905568124, 'advocating': 0.17609125905568124, 'workweek': 0.17609125905568124, 'including': 0.17609125905568124, 'sundays': 0.17609125905568124, 'maintain': 0.17609125905568124, 'competitiveness': 0.17609125905568124, 'controversial': 0.17609125905568124, 'suggestion': 0.17609125905568124, 'comes': 0.17609125905568124, 'backdrop': 0.17609125905568124, 'growing': 0.17609125905568124, 'concerns': 0.17609125905568124, 'dangers': 0.17609125905568124, 'overwork': 0.17609125905568124, 'highlighted': 0.17609125905568124, 'tragic': 0.17609125905568124, 'death': 0.17609125905568124, 'ey': 0.17609125905568124, 'employee': 0.17609125905568124, 'anna': 0.17609125905568124, 'sebastian': 0.17609125905568124, 'perayil': 0.17609125905568124, 'last': 0.17609125905568124, 'year': 0.17609125905568124, 'reportedly': 0.17609125905568124, 'succumbed': 0.17609125905568124, 'pressures': 0.17609125905568124, 'extensive': 0.17609125905568124, 'working': 0.17609125905568124, 'hours': 0.17609125905568124, 'four': 0.17609125905568124, 'months': 0.17609125905568124, 'job': 0.17609125905568124}\n",
      "pressures: {'larsen': 0.17609125905568124, 'toubro': 0.17609125905568124, 'chairman': 0.17609125905568124, 'sn': 0.17609125905568124, 'subrahmanyan': 0.17609125905568124, 'stirred': 0.17609125905568124, 'storm': 0.17609125905568124, 'recent': 0.17609125905568124, 'proposal': 0.17609125905568124, 'advocating': 0.17609125905568124, 'workweek': 0.17609125905568124, 'including': 0.17609125905568124, 'sundays': 0.17609125905568124, 'maintain': 0.17609125905568124, 'competitiveness': 0.17609125905568124, 'controversial': 0.17609125905568124, 'suggestion': 0.17609125905568124, 'comes': 0.17609125905568124, 'backdrop': 0.17609125905568124, 'growing': 0.17609125905568124, 'concerns': 0.17609125905568124, 'dangers': 0.17609125905568124, 'overwork': 0.17609125905568124, 'highlighted': 0.17609125905568124, 'tragic': 0.17609125905568124, 'death': 0.17609125905568124, 'ey': 0.17609125905568124, 'employee': 0.17609125905568124, 'anna': 0.17609125905568124, 'sebastian': 0.17609125905568124, 'perayil': 0.17609125905568124, 'last': 0.17609125905568124, 'year': 0.17609125905568124, 'reportedly': 0.17609125905568124, 'succumbed': 0.17609125905568124, 'pressures': 0.17609125905568124, 'extensive': 0.17609125905568124, 'working': 0.17609125905568124, 'hours': 0.17609125905568124, 'four': 0.17609125905568124, 'months': 0.17609125905568124, 'job': 0.17609125905568124}\n",
      "extensive: {'larsen': 0.17609125905568124, 'toubro': 0.17609125905568124, 'chairman': 0.17609125905568124, 'sn': 0.17609125905568124, 'subrahmanyan': 0.17609125905568124, 'stirred': 0.17609125905568124, 'storm': 0.17609125905568124, 'recent': 0.17609125905568124, 'proposal': 0.17609125905568124, 'advocating': 0.17609125905568124, 'workweek': 0.17609125905568124, 'including': 0.17609125905568124, 'sundays': 0.17609125905568124, 'maintain': 0.17609125905568124, 'competitiveness': 0.17609125905568124, 'controversial': 0.17609125905568124, 'suggestion': 0.17609125905568124, 'comes': 0.17609125905568124, 'backdrop': 0.17609125905568124, 'growing': 0.17609125905568124, 'concerns': 0.17609125905568124, 'dangers': 0.17609125905568124, 'overwork': 0.17609125905568124, 'highlighted': 0.17609125905568124, 'tragic': 0.17609125905568124, 'death': 0.17609125905568124, 'ey': 0.17609125905568124, 'employee': 0.17609125905568124, 'anna': 0.17609125905568124, 'sebastian': 0.17609125905568124, 'perayil': 0.17609125905568124, 'last': 0.17609125905568124, 'year': 0.17609125905568124, 'reportedly': 0.17609125905568124, 'succumbed': 0.17609125905568124, 'pressures': 0.17609125905568124, 'extensive': 0.17609125905568124, 'working': 0.17609125905568124, 'hours': 0.17609125905568124, 'four': 0.17609125905568124, 'months': 0.17609125905568124, 'job': 0.17609125905568124}\n",
      "working: {'larsen': 0.17609125905568124, 'toubro': 0.17609125905568124, 'chairman': 0.17609125905568124, 'sn': 0.17609125905568124, 'subrahmanyan': 0.17609125905568124, 'stirred': 0.17609125905568124, 'storm': 0.17609125905568124, 'recent': 0.17609125905568124, 'proposal': 0.17609125905568124, 'advocating': 0.17609125905568124, 'workweek': 0.17609125905568124, 'including': 0.17609125905568124, 'sundays': 0.17609125905568124, 'maintain': 0.17609125905568124, 'competitiveness': 0.17609125905568124, 'controversial': 0.17609125905568124, 'suggestion': 0.17609125905568124, 'comes': 0.17609125905568124, 'backdrop': 0.17609125905568124, 'growing': 0.17609125905568124, 'concerns': 0.17609125905568124, 'dangers': 0.17609125905568124, 'overwork': 0.17609125905568124, 'highlighted': 0.17609125905568124, 'tragic': 0.17609125905568124, 'death': 0.17609125905568124, 'ey': 0.17609125905568124, 'employee': 0.17609125905568124, 'anna': 0.17609125905568124, 'sebastian': 0.17609125905568124, 'perayil': 0.17609125905568124, 'last': 0.17609125905568124, 'year': 0.17609125905568124, 'reportedly': 0.17609125905568124, 'succumbed': 0.17609125905568124, 'pressures': 0.17609125905568124, 'extensive': 0.17609125905568124, 'working': 0.17609125905568124, 'hours': 0.17609125905568124, 'four': 0.17609125905568124, 'months': 0.17609125905568124, 'job': 0.17609125905568124}\n",
      "hours: {'larsen': 0.17609125905568124, 'toubro': 0.17609125905568124, 'chairman': 0.17609125905568124, 'sn': 0.17609125905568124, 'subrahmanyan': 0.17609125905568124, 'stirred': 0.17609125905568124, 'storm': 0.17609125905568124, 'recent': 0.17609125905568124, 'proposal': 0.17609125905568124, 'advocating': 0.17609125905568124, 'workweek': 0.17609125905568124, 'including': 0.17609125905568124, 'sundays': 0.17609125905568124, 'maintain': 0.17609125905568124, 'competitiveness': 0.17609125905568124, 'controversial': 0.17609125905568124, 'suggestion': 0.17609125905568124, 'comes': 0.17609125905568124, 'backdrop': 0.17609125905568124, 'growing': 0.17609125905568124, 'concerns': 0.17609125905568124, 'dangers': 0.17609125905568124, 'overwork': 0.17609125905568124, 'highlighted': 0.17609125905568124, 'tragic': 0.17609125905568124, 'death': 0.17609125905568124, 'ey': 0.17609125905568124, 'employee': 0.17609125905568124, 'anna': 0.17609125905568124, 'sebastian': 0.17609125905568124, 'perayil': 0.17609125905568124, 'last': 0.17609125905568124, 'year': 0.17609125905568124, 'reportedly': 0.17609125905568124, 'succumbed': 0.17609125905568124, 'pressures': 0.17609125905568124, 'extensive': 0.17609125905568124, 'working': 0.17609125905568124, 'hours': 0.17609125905568124, 'four': 0.17609125905568124, 'months': 0.17609125905568124, 'job': 0.17609125905568124}\n",
      "four: {'larsen': 0.17609125905568124, 'toubro': 0.17609125905568124, 'chairman': 0.17609125905568124, 'sn': 0.17609125905568124, 'subrahmanyan': 0.17609125905568124, 'stirred': 0.17609125905568124, 'storm': 0.17609125905568124, 'recent': 0.17609125905568124, 'proposal': 0.17609125905568124, 'advocating': 0.17609125905568124, 'workweek': 0.17609125905568124, 'including': 0.17609125905568124, 'sundays': 0.17609125905568124, 'maintain': 0.17609125905568124, 'competitiveness': 0.17609125905568124, 'controversial': 0.17609125905568124, 'suggestion': 0.17609125905568124, 'comes': 0.17609125905568124, 'backdrop': 0.17609125905568124, 'growing': 0.17609125905568124, 'concerns': 0.17609125905568124, 'dangers': 0.17609125905568124, 'overwork': 0.17609125905568124, 'highlighted': 0.17609125905568124, 'tragic': 0.17609125905568124, 'death': 0.17609125905568124, 'ey': 0.17609125905568124, 'employee': 0.17609125905568124, 'anna': 0.17609125905568124, 'sebastian': 0.17609125905568124, 'perayil': 0.17609125905568124, 'last': 0.17609125905568124, 'year': 0.17609125905568124, 'reportedly': 0.17609125905568124, 'succumbed': 0.17609125905568124, 'pressures': 0.17609125905568124, 'extensive': 0.17609125905568124, 'working': 0.17609125905568124, 'hours': 0.17609125905568124, 'four': 0.17609125905568124, 'months': 0.17609125905568124, 'job': 0.17609125905568124}\n",
      "months: {'larsen': 0.17609125905568124, 'toubro': 0.17609125905568124, 'chairman': 0.17609125905568124, 'sn': 0.17609125905568124, 'subrahmanyan': 0.17609125905568124, 'stirred': 0.17609125905568124, 'storm': 0.17609125905568124, 'recent': 0.17609125905568124, 'proposal': 0.17609125905568124, 'advocating': 0.17609125905568124, 'workweek': 0.17609125905568124, 'including': 0.17609125905568124, 'sundays': 0.17609125905568124, 'maintain': 0.17609125905568124, 'competitiveness': 0.17609125905568124, 'controversial': 0.17609125905568124, 'suggestion': 0.17609125905568124, 'comes': 0.17609125905568124, 'backdrop': 0.17609125905568124, 'growing': 0.17609125905568124, 'concerns': 0.17609125905568124, 'dangers': 0.17609125905568124, 'overwork': 0.17609125905568124, 'highlighted': 0.17609125905568124, 'tragic': 0.17609125905568124, 'death': 0.17609125905568124, 'ey': 0.17609125905568124, 'employee': 0.17609125905568124, 'anna': 0.17609125905568124, 'sebastian': 0.17609125905568124, 'perayil': 0.17609125905568124, 'last': 0.17609125905568124, 'year': 0.17609125905568124, 'reportedly': 0.17609125905568124, 'succumbed': 0.17609125905568124, 'pressures': 0.17609125905568124, 'extensive': 0.17609125905568124, 'working': 0.17609125905568124, 'hours': 0.17609125905568124, 'four': 0.17609125905568124, 'months': 0.17609125905568124, 'job': 0.17609125905568124}\n",
      "job: {'larsen': 0.17609125905568124, 'toubro': 0.17609125905568124, 'chairman': 0.17609125905568124, 'sn': 0.17609125905568124, 'subrahmanyan': 0.17609125905568124, 'stirred': 0.17609125905568124, 'storm': 0.17609125905568124, 'recent': 0.17609125905568124, 'proposal': 0.17609125905568124, 'advocating': 0.17609125905568124, 'workweek': 0.17609125905568124, 'including': 0.17609125905568124, 'sundays': 0.17609125905568124, 'maintain': 0.17609125905568124, 'competitiveness': 0.17609125905568124, 'controversial': 0.17609125905568124, 'suggestion': 0.17609125905568124, 'comes': 0.17609125905568124, 'backdrop': 0.17609125905568124, 'growing': 0.17609125905568124, 'concerns': 0.17609125905568124, 'dangers': 0.17609125905568124, 'overwork': 0.17609125905568124, 'highlighted': 0.17609125905568124, 'tragic': 0.17609125905568124, 'death': 0.17609125905568124, 'ey': 0.17609125905568124, 'employee': 0.17609125905568124, 'anna': 0.17609125905568124, 'sebastian': 0.17609125905568124, 'perayil': 0.17609125905568124, 'last': 0.17609125905568124, 'year': 0.17609125905568124, 'reportedly': 0.17609125905568124, 'succumbed': 0.17609125905568124, 'pressures': 0.17609125905568124, 'extensive': 0.17609125905568124, 'working': 0.17609125905568124, 'hours': 0.17609125905568124, 'four': 0.17609125905568124, 'months': 0.17609125905568124, 'job': 0.17609125905568124}\n"
     ]
    }
   ],
   "source": [
    "import math\n",
    "\n",
    "# Calculate Inverse Document Frequency\n",
    "def calculate_idf(sentences, word_document_counts):\n",
    "    total_documents = len(sentences)\n",
    "    idf_scores = {}\n",
    "    for word, count in word_document_counts.items():\n",
    "        idf_scores[word] = math.log10(total_documents / (1 + count))\n",
    "    return idf_scores\n",
    "\n",
    "idf_scores = calculate_idf(sentences, word_document_counts)\n",
    "print(\"\\n### Step 5: Inverse Document Frequency (IDF) Scores ###\\n\")\n",
    "for word, idf_Rating in idf_scores.items():\n",
    "    print(f\"{word}: {idf_scores}\")"
   ]
  },
  {
   "cell_type": "markdown",
   "id": "749bb5d0-dab9-4968-8025-9e4a5cff5a53",
   "metadata": {},
   "source": [
    "<b> 6. Calculate TF-IDF and Generate Matrix. </b>"
   ]
  },
  {
   "cell_type": "code",
   "execution_count": 113,
   "id": "35738933-45c0-4dab-aa64-d17c290715f8",
   "metadata": {},
   "outputs": [
    {
     "name": "stdout",
     "output_type": "stream",
     "text": [
      "\n",
      "** Step 6: TF-IDF Matrix **\n",
      "\n",
      "Sentence: \"Larsen & Toubro Chairman SN Subrahmanyan has stirred a storm with his recent proposal advocating for a 90-hour workweek, including Sundays, \n",
      "to maintain competitiveness.\"\n",
      ">> TF-IDF Scores: {'larsen': 0.01173941727037875, 'toubro': 0.01173941727037875, 'chairman': 0.01173941727037875, 'sn': 0.01173941727037875, 'subrahmanyan': 0.01173941727037875, 'stirred': 0.01173941727037875, 'storm': 0.01173941727037875, 'recent': 0.01173941727037875, 'proposal': 0.01173941727037875, 'advocating': 0.01173941727037875, 'workweek': 0.01173941727037875, 'including': 0.01173941727037875, 'sundays': 0.01173941727037875, 'maintain': 0.01173941727037875, 'competitiveness': 0.01173941727037875}\n",
      "\n",
      "Sentence: \"The controversial suggestion comes against the backdrop of growing concerns about the dangers of overwork,\n",
      "highlighted by the tragic death of a 26-year-old EY employee, Anna Sebastian Perayil, last year.\"\n",
      ">> TF-IDF Scores: {'controversial': 0.009782847725315624, 'suggestion': 0.009782847725315624, 'comes': 0.009782847725315624, 'backdrop': 0.009782847725315624, 'growing': 0.009782847725315624, 'concerns': 0.009782847725315624, 'dangers': 0.009782847725315624, 'overwork': 0.009782847725315624, 'highlighted': 0.009782847725315624, 'tragic': 0.009782847725315624, 'death': 0.009782847725315624, 'ey': 0.009782847725315624, 'employee': 0.009782847725315624, 'anna': 0.009782847725315624, 'sebastian': 0.009782847725315624, 'perayil': 0.009782847725315624, 'last': 0.009782847725315624, 'year': 0.009782847725315624}\n",
      "\n",
      "Sentence: \"She reportedly succumbed to the pressures of extensive working hours, just four months into her job.\"\n",
      ">> TF-IDF Scores: {'reportedly': 0.01956569545063125, 'succumbed': 0.01956569545063125, 'pressures': 0.01956569545063125, 'extensive': 0.01956569545063125, 'working': 0.01956569545063125, 'hours': 0.01956569545063125, 'four': 0.01956569545063125, 'months': 0.01956569545063125, 'job': 0.01956569545063125}\n",
      "\n"
     ]
    }
   ],
   "source": [
    "# Calculate TF-IDF Matrix\n",
    "def calculate_tfidf(tf_matrix, idf_scores):\n",
    "    tfidf_matrix = {}\n",
    "    for sentence, tf_scores in tf_matrix.items():\n",
    "        tfidf_matrix[sentence] = {}\n",
    "        for word, tf_Rating in tf_scores.items():\n",
    "            tfidf_matrix[sentence][word] = tf_Rating* idf_scores.get(word, 0)\n",
    "    return tfidf_matrix\n",
    "\n",
    "tfidf_matrix = calculate_tfidf(tf_matrix, idf_scores)\n",
    "print(\"\\n** Step 6: TF-IDF Matrix **\\n\")\n",
    "for sentence, tfidf_scores in tfidf_matrix.items():\n",
    "    print(f\"Sentence: \\\"{sentence}\\\"\")\n",
    "    print(f\">> TF-IDF Scores: {tfidf_scores}\\n\")"
   ]
  },
  {
   "cell_type": "markdown",
   "id": "d36494c8-c4a6-4227-8359-94c98016ff6a",
   "metadata": {},
   "source": [
    "<b> 7. Rating the sentences. </b>"
   ]
  },
  {
   "cell_type": "code",
   "execution_count": 118,
   "id": "ac7bcbe2-193b-4c8d-9aff-2a7c32d59222",
   "metadata": {},
   "outputs": [
    {
     "name": "stdout",
     "output_type": "stream",
     "text": [
      "\n",
      "** Step 7: Sentence Scores **\n",
      "\n",
      " Sentence: \"Larsen & Toubro Chairman SN Subrahmanyan has stirred a storm with his recent proposal advocating for a 90-hour workweek, including Sundays, \n",
      "to maintain competitiveness.\" - Score: 0.17609125905568124\n",
      "\n",
      " Sentence: \"The controversial suggestion comes against the backdrop of growing concerns about the dangers of overwork,\n",
      "highlighted by the tragic death of a 26-year-old EY employee, Anna Sebastian Perayil, last year.\" - Score: 0.17609125905568124\n",
      "\n",
      " Sentence: \"She reportedly succumbed to the pressures of extensive working hours, just four months into her job.\" - Score: 0.17609125905568124\n"
     ]
    }
   ],
   "source": [
    "# RatingSentences\n",
    "def score_sentences(tfidf_matrix):\n",
    "    sentence_scores = {}\n",
    "    for sentence, tfidf_scores in tfidf_matrix.items():\n",
    "        sentence_scores[sentence] = sum(tfidf_scores.values())\n",
    "    return sentence_scores\n",
    "\n",
    "sentence_scores = score_sentences(tfidf_matrix)\n",
    "print(\"\\n** Step 7: Sentence Scores **\")\n",
    "for sentence, Rating in sentence_scores.items():\n",
    "    print(f\"\\n Sentence: \\\"{sentence}\\\" - Score: {Rating}\")"
   ]
  },
  {
   "cell_type": "markdown",
   "id": "a638b4f8-7693-4599-bef5-24b4490b14a6",
   "metadata": {},
   "source": [
    "<b> 8. Find the threshold. </b>"
   ]
  },
  {
   "cell_type": "code",
   "execution_count": 131,
   "id": "cd5699dc-5a7d-411c-80dc-cc6aad64ea35",
   "metadata": {},
   "outputs": [
    {
     "name": "stdout",
     "output_type": "stream",
     "text": [
      "\n",
      "** Step 8: Threshold Value **\n",
      "Threshold (Average Score): 0.1584821331501131\n"
     ]
    }
   ],
   "source": [
    "# Calculate Threshold\n",
    "def calculate_threshold(sentence_scores):\n",
    "    threshold_factor = 0.9\n",
    "    return sum(sentence_scores.values()) / len(sentence_scores) * threshold_factor\n",
    "\n",
    "threshold = calculate_threshold(sentence_scores)\n",
    "print(\"\\n** Step 8: Threshold Value **\")\n",
    "print(f\"Threshold (Average Score): {threshold}\")"
   ]
  },
  {
   "cell_type": "markdown",
   "id": "c4e2755f-51c0-493e-a95c-2b5da3e0db9b",
   "metadata": {},
   "source": [
    "<b> 9. Generate the Summary. </b>"
   ]
  },
  {
   "cell_type": "code",
   "execution_count": 134,
   "id": "2dd116f0-c5f6-4f7a-991b-cb8940b5b76e",
   "metadata": {},
   "outputs": [
    {
     "name": "stdout",
     "output_type": "stream",
     "text": [
      "\n",
      "** Step 9: Generated Summary **\n",
      "\n",
      "Larsen & Toubro Chairman SN Subrahmanyan has stirred a storm with his recent proposal advocating for a 90-hour workweek, including Sundays, \n",
      "to maintain competitiveness. The controversial suggestion comes against the backdrop of growing concerns about the dangers of overwork,\n",
      "highlighted by the tragic death of a 26-year-old EY employee, Anna Sebastian Perayil, last year. She reportedly succumbed to the pressures of extensive working hours, just four months into her job.\n"
     ]
    }
   ],
   "source": [
    "# Generate Summary\n",
    "def generate_summary(sentences, sentence_scores, threshold):\n",
    "    return [sentence for sentence in sentences if sentence_scores[sentence] > threshold]\n",
    "\n",
    "summary = generate_summary(sentences, sentence_scores, threshold)\n",
    "print(\"\\n** Step 9: Generated Summary **\\n\")\n",
    "print(\" \".join(summary))\n"
   ]
  },
  {
   "cell_type": "code",
   "execution_count": null,
   "id": "c6dfd1d3-ddbd-4947-b945-093e5e057b40",
   "metadata": {},
   "outputs": [],
   "source": []
  },
  {
   "cell_type": "code",
   "execution_count": null,
   "id": "5e3eaf48-1fd3-466e-b331-219f434f27e8",
   "metadata": {},
   "outputs": [],
   "source": []
  }
 ],
 "metadata": {
  "kernelspec": {
   "display_name": "Python 3 (ipykernel)",
   "language": "python",
   "name": "python3"
  },
  "language_info": {
   "codemirror_mode": {
    "name": "ipython",
    "version": 3
   },
   "file_extension": ".py",
   "mimetype": "text/x-python",
   "name": "python",
   "nbconvert_exporter": "python",
   "pygments_lexer": "ipython3",
   "version": "3.12.4"
  }
 },
 "nbformat": 4,
 "nbformat_minor": 5
}
